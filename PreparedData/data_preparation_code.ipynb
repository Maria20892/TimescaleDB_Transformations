{
 "cells": [
  {
   "cell_type": "markdown",
   "metadata": {},
   "source": [
    "Experiment with timeseries Exp3P1V5happiness.csv https://road.affectivese.org/datasets/GraphNeuralNetwork/ \n",
    "\n",
    "One timeseries contains 110 timestamps.  \n",
    "\n",
    "To prepare timeseries to the experiment 10% of data should be deleted to make gaps:  "
   ]
  },
  {
   "cell_type": "code",
   "execution_count": 16,
   "metadata": {},
   "outputs": [],
   "source": [
    "#imports\n",
    "import pandas as pd\n",
    "import math\n",
    "import os\n",
    "import psycopg2\n",
    "from psycopg2 import OperationalError\n",
    "from datetime import datetime, timedelta"
   ]
  },
  {
   "cell_type": "code",
   "execution_count": 18,
   "metadata": {},
   "outputs": [],
   "source": [
    "# Function that multiplies the original CSV file and saves a new CSV file into the folder\n",
    "def multiply_original_data(file_name, column_names, repeat_count):\n",
    "    # Load the CSV file\n",
    "    exp_ts = pd.read_csv(file_name, skiprows=1, names=column_names)\n",
    "    \n",
    "    # Create a new DataFrame by repeating the original DataFrame `repeat_count` times\n",
    "    exp_ts_xtimes = pd.concat([exp_ts] * repeat_count, ignore_index=True)\n",
    "    \n",
    "    # Update the 'FrameMillis' column with sequential values\n",
    "    exp_ts_xtimes['FrameMillis'] = list(range(len(exp_ts_xtimes)))\n",
    "    \n",
    "    # Generate the new file name with `_x{repeat_count}` appended\n",
    "    new_file_name = file_name.replace('.csv', f'_x{repeat_count}.csv')\n",
    "    \n",
    "    # Save the new DataFrame to a CSV file\n",
    "    exp_ts_xtimes.to_csv(new_file_name, sep=',', index=False, encoding='utf-8')\n",
    "    \n",
    "    print(f\"File saved as {new_file_name}\")\n",
    "    return exp_ts_xtimes, new_file_name\n"
   ]
  },
  {
   "cell_type": "code",
   "execution_count": 19,
   "metadata": {},
   "outputs": [],
   "source": [
    "# Function to delete random rows from a DataFrame and save the modified version\n",
    "def delete_random_rows(df, perc_to_del, file_name, seed):\n",
    "    # The number of rows to delete\n",
    "    rows_to_delete = int(len(df) * perc_to_del)\n",
    "\n",
    "    # Randomly sample rows to delete with a seed\n",
    "    rows_to_delete_indices = df.sample(n=rows_to_delete, random_state=seed).index\n",
    "    rows_to_delete_df = pd.DataFrame({'DeletedIndices': rows_to_delete_indices})\n",
    "    \n",
    "    # Store indices of deleted rows to a CSV file\n",
    "    deleted_rows_file = 'deleted_rows_' + file_name\n",
    "    rows_to_delete_df.to_csv(deleted_rows_file, sep=',', index=False, encoding='utf-8')\n",
    "    \n",
    "    # Drop the randomly selected rows\n",
    "    df_with_gaps = df.drop(rows_to_delete_indices)\n",
    "\n",
    "    file_with_gaps = file_name.replace('.csv', '_with_gaps.csv')\n",
    "    \n",
    "    # Save the DataFrame with gaps to a new CSV file\n",
    "    df_with_gaps.to_csv(file_with_gaps, sep=',', index=False, encoding='utf-8')\n",
    "    \n",
    "    print(f\"File saved with gaps as {file_with_gaps}\")"
   ]
  },
  {
   "cell_type": "code",
   "execution_count": 20,
   "metadata": {},
   "outputs": [
    {
     "name": "stdout",
     "output_type": "stream",
     "text": [
      "File saved as Exp3P1V5happiness_x10.csv\n",
      "File saved with gaps as Exp3P1V5happiness_x10_with_gaps.csv\n",
      "File saved as Exp3P1V5happiness_x100.csv\n",
      "File saved with gaps as Exp3P1V5happiness_x100_with_gaps.csv\n",
      "File saved as Exp3P1V5happiness_x1000.csv\n",
      "File saved with gaps as Exp3P1V5happiness_x1000_with_gaps.csv\n",
      "File saved with gaps as Exp3P1V5happiness_with_gaps.csv\n"
     ]
    }
   ],
   "source": [
    "original_file_name = \"Exp3P1V5happiness.csv\"\n",
    "column_names = [\"FrameMillis\", \"Value\", \"EmotionRange\"]\n",
    "multiplication_sizes = [10, 100, 1000]\n",
    "percent_to_delete = 0.1\n",
    "seed = 10\n",
    "\n",
    "# Multiplication of the original file with saving the file and its name, and following gaps creation\n",
    "for i in multiplication_sizes:\n",
    "    multiplied_df, generated_file_name = multiply_original_data(original_file_name, column_names, i)\n",
    "    \n",
    "    delete_random_rows(multiplied_df, percent_to_delete, generated_file_name, seed)\n",
    "\n",
    "#creating gaps in the original file\n",
    "original_df = pd.read_csv(original_file_name, skiprows=1, names=column_names)\n",
    "delete_random_rows(original_df, percent_to_delete, original_file_name, seed)"
   ]
  },
  {
   "cell_type": "markdown",
   "metadata": {},
   "source": [
    "after preparing a file and deleting 10% of data from it, file should be inserted into the database for further transformations."
   ]
  },
  {
   "cell_type": "code",
   "execution_count": 80,
   "metadata": {},
   "outputs": [
    {
     "name": "stdout",
     "output_type": "stream",
     "text": [
      "Connected to the database.\n",
      "Timeseries table created successfully.\n",
      "Data inserted into Timeseries table successfully.\n",
      "Signal_Values_timestamp table created successfully.\n",
      "Data inserted into Signal_Values_timestamp table successfully.\n",
      "Database connection closed.\n"
     ]
    }
   ],
   "source": []
  }
 ],
 "metadata": {
  "kernelspec": {
   "display_name": "Python 3",
   "language": "python",
   "name": "python3"
  },
  "language_info": {
   "codemirror_mode": {
    "name": "ipython",
    "version": 3
   },
   "file_extension": ".py",
   "mimetype": "text/x-python",
   "name": "python",
   "nbconvert_exporter": "python",
   "pygments_lexer": "ipython3",
   "version": "3.12.5"
  }
 },
 "nbformat": 4,
 "nbformat_minor": 2
}
