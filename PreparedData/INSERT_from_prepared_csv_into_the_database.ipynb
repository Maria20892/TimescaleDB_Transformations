{
 "cells": [
  {
   "cell_type": "code",
   "execution_count": 1,
   "metadata": {},
   "outputs": [],
   "source": [
    "import os\n",
    "import pandas as pd\n",
    "import psycopg2\n",
    "from psycopg2 import OperationalError\n",
    "from datetime import datetime, timedelta"
   ]
  },
  {
   "cell_type": "code",
   "execution_count": null,
   "metadata": {},
   "outputs": [],
   "source": [
    "# Function to connect to the PostgreSQL database\n",
    "def connect_to_db():\n",
    "    try:\n",
    "        conn = psycopg2.connect(\n",
    "            dbname=\"timeseries\",\n",
    "            user=\"postgres\",\n",
    "            password=\"diploma\",\n",
    "            host=\"localhost\",\n",
    "            port=\"5432\"\n",
    "        )\n",
    "        print(\"Connected to the database.\")\n",
    "        return conn\n",
    "    except OperationalError as e:\n",
    "        print(f\"Error: {e}\")\n",
    "        return None"
   ]
  },
  {
   "cell_type": "code",
   "execution_count": 3,
   "metadata": {},
   "outputs": [],
   "source": [
    "# Function to create the Timeseries table and fill it with data\n",
    "def create_and_fill_timeseries_table(conn, csv_dir):\n",
    "    try:\n",
    "        cursor = conn.cursor()\n",
    "        cursor.execute(\"\"\"\n",
    "            CREATE TABLE IF NOT EXISTS Timeseries (\n",
    "                id VARCHAR PRIMARY KEY,\n",
    "                original_timeseries_id VARCHAR,\n",
    "                type VARCHAR(50),\n",
    "                measure_id INT,\n",
    "                source VARCHAR(100),\n",
    "                additional_properties JSONB\n",
    "            );\n",
    "        \"\"\")\n",
    "        print(\"Timeseries table created successfully.\")\n",
    "\n",
    "        # Iterate through CSV files in the directory\n",
    "        for file in os.listdir(csv_dir):\n",
    "            if file.endswith(\".csv\"):\n",
    "                timeseries_id = os.path.splitext(os.path.basename(file))[0]\n",
    "                cursor.execute(\"\"\"\n",
    "                    INSERT INTO Timeseries (id)\n",
    "                    VALUES (%s)\n",
    "                    ON CONFLICT (id) DO NOTHING;\n",
    "                \"\"\", (timeseries_id,))\n",
    "        conn.commit()\n",
    "        print(\"Data inserted into Timeseries table successfully.\")\n",
    "\n",
    "    except Exception as e:\n",
    "        print(f\"Error: {e}\")"
   ]
  },
  {
   "cell_type": "code",
   "execution_count": 4,
   "metadata": {},
   "outputs": [],
   "source": [
    "# Function to create the Signal_Values_timestamp table and insert data into it\n",
    "def create_and_insert_signal_values_table(conn, csv_dir):\n",
    "    try:\n",
    "        cursor = conn.cursor()\n",
    "        cursor.execute(\"\"\"\n",
    "            CREATE TABLE IF NOT EXISTS Signal_Values_timestamp (\n",
    "                timeseries_id VARCHAR,\n",
    "                timestamp TIMESTAMPTZ,\n",
    "                value FLOAT,\n",
    "                additional_properties VARCHAR,\n",
    "                FOREIGN KEY (timeseries_id) REFERENCES Timeseries(id)\n",
    "            );\n",
    "        \"\"\")\n",
    "        print(\"Signal_Values_timestamp table created successfully.\")\n",
    "\n",
    "        # Iterate through CSV files in the directory\n",
    "        for file in os.listdir(csv_dir):\n",
    "            if file.endswith(\".csv\"):\n",
    "                csv_file = os.path.join(csv_dir, file)\n",
    "                timeseries_id = os.path.splitext(os.path.basename(csv_file))[0]\n",
    "                \n",
    "                # Read CSV file into pandas DataFrame\n",
    "                df = pd.read_csv(csv_file)\n",
    "\n",
    "                # Define the starting time\n",
    "                start_time = datetime(2024, 11, 10, 3, 0, 0, 0) + timedelta(hours=1)\n",
    "\n",
    "                # Insert DataFrame rows into the table\n",
    "                for _, row in df.iterrows():\n",
    "                    # Use the first column as milliseconds\n",
    "                    milliseconds = int(row.iloc[0])\n",
    "                    timestamp = start_time + timedelta(milliseconds=milliseconds)\n",
    "                    additional_properties = str(row['EmotionRange'])\n",
    "                    \n",
    "                    cursor.execute(\"\"\"\n",
    "                        INSERT INTO Signal_Values_timestamp (timeseries_id, timestamp, value, additional_properties)\n",
    "                        VALUES (%s, %s, %s, %s)\n",
    "                    \"\"\", (timeseries_id, timestamp, row['Value'], additional_properties))\n",
    "        conn.commit()\n",
    "        print(\"Data inserted into Signal_Values_timestamp table successfully.\")\n",
    "\n",
    "    except Exception as e:\n",
    "        print(f\"Error: {e}\")\n"
   ]
  },
  {
   "cell_type": "code",
   "execution_count": 5,
   "metadata": {},
   "outputs": [
    {
     "name": "stdout",
     "output_type": "stream",
     "text": [
      "Connected to the database.\n",
      "Timeseries table created successfully.\n",
      "Data inserted into Timeseries table successfully.\n",
      "Signal_Values_timestamp table created successfully.\n",
      "Data inserted into Signal_Values_timestamp table successfully.\n",
      "Database connection closed.\n"
     ]
    }
   ],
   "source": [
    "# Main function\n",
    "def main():\n",
    "    # Connect to the PostgreSQL database\n",
    "    conn = connect_to_db()\n",
    "    if conn is None:\n",
    "        return\n",
    "\n",
    "    # Directory containing CSV files\n",
    "    csv_dir = \"prepared_data\"\n",
    "\n",
    "    # Create and fill the Timeseries table\n",
    "    create_and_fill_timeseries_table(conn, csv_dir)\n",
    "\n",
    "    # Create and insert data into the Signal_Values_timestamp table\n",
    "    create_and_insert_signal_values_table(conn, csv_dir)\n",
    "\n",
    "    # Close the database connection\n",
    "    conn.close()\n",
    "    print(\"Database connection closed.\")\n",
    "\n",
    "if __name__ == \"__main__\":\n",
    "    main()"
   ]
  }
 ],
 "metadata": {
  "kernelspec": {
   "display_name": "Python 3",
   "language": "python",
   "name": "python3"
  },
  "language_info": {
   "codemirror_mode": {
    "name": "ipython",
    "version": 3
   },
   "file_extension": ".py",
   "mimetype": "text/x-python",
   "name": "python",
   "nbconvert_exporter": "python",
   "pygments_lexer": "ipython3",
   "version": "3.12.5"
  }
 },
 "nbformat": 4,
 "nbformat_minor": 2
}
